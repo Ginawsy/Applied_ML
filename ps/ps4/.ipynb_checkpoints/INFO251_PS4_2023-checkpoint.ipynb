{
 "cells": [
  {
   "cell_type": "markdown",
   "metadata": {
    "id": "ckWwG9pdjl7E"
   },
   "source": [
    "This is a fun but challenging problem set. It will test your python skills, as well as your understanding of the material in class and in the readings. Start early and debug often! Some notes:\n",
    "\n",
    "* Part 1 is meant to be easy, so get through it quickly.\n",
    "* Part 2 (especially 2.1) will be difficult, but it is the lynchpin of this problem set so make sure to do it well and understand what you've done. If you find your gradient descent algorithm is taking more than a few minutes to complete, debug more, compare notes with others, and go to the TA sessions (especially the sections on vectorized computation and computational efficiency).\n",
    "* Depending on how well you've done 2.1, parts 2.3 and 4.3 will be relatively painless or incredibly painful. \n",
    "* Part 4 (especially 4.3) will be computationally intensive. Don't leave this until the last minute, otherwise your code might be running when the deadline arrives.\n",
    "* Do the extra credit problems last. This can help you increase your scores"
   ]
  },
  {
   "cell_type": "markdown",
   "metadata": {
    "id": "9Bscj7wWjl7I"
   },
   "source": [
    "---\n",
    "\n",
    "## Introduction to the assignment\n",
    "\n",
    "As with the last assignment, you will be using the [Boston Housing Prices Data Set](https://archive.ics.uci.edu/ml/machine-learning-databases/housing/housing.names).\n",
    "\n",
    "The data has been loaded into a dataframe for you."
   ]
  },
  {
   "cell_type": "code",
   "execution_count": 195,
   "metadata": {
    "id": "t0_LwTzXjl7J",
    "tags": []
   },
   "outputs": [],
   "source": [
    "import IPython\n",
    "import numpy as np\n",
    "import scipy as sp\n",
    "import pandas as pd\n",
    "import matplotlib\n",
    "import sklearn\n",
    "\n",
    "%matplotlib inline  \n",
    "import matplotlib.pyplot as plt  \n",
    "import statsmodels.api as sm\n",
    "from sklearn.linear_model import LinearRegression\n",
    "from sklearn.metrics import mean_squared_error\n",
    "import statsmodels.formula.api as smf\n"
   ]
  },
  {
   "cell_type": "code",
   "execution_count": 196,
   "metadata": {
    "id": "72miT9Zhjl7K",
    "tags": []
   },
   "outputs": [
    {
     "data": {
      "text/html": [
       "<div>\n",
       "<style scoped>\n",
       "    .dataframe tbody tr th:only-of-type {\n",
       "        vertical-align: middle;\n",
       "    }\n",
       "\n",
       "    .dataframe tbody tr th {\n",
       "        vertical-align: top;\n",
       "    }\n",
       "\n",
       "    .dataframe thead th {\n",
       "        text-align: right;\n",
       "    }\n",
       "</style>\n",
       "<table border=\"1\" class=\"dataframe\">\n",
       "  <thead>\n",
       "    <tr style=\"text-align: right;\">\n",
       "      <th></th>\n",
       "      <th>CRIM</th>\n",
       "      <th>ZN</th>\n",
       "      <th>INDUS</th>\n",
       "      <th>CHAS</th>\n",
       "      <th>NOX</th>\n",
       "      <th>RM</th>\n",
       "      <th>AGE</th>\n",
       "      <th>DIS</th>\n",
       "      <th>RAD</th>\n",
       "      <th>TAX</th>\n",
       "      <th>PTRATIO</th>\n",
       "      <th>B</th>\n",
       "      <th>LSTAT</th>\n",
       "      <th>MEDV</th>\n",
       "    </tr>\n",
       "  </thead>\n",
       "  <tbody>\n",
       "    <tr>\n",
       "      <th>0</th>\n",
       "      <td>0.218960</td>\n",
       "      <td>18.0</td>\n",
       "      <td>2.629288</td>\n",
       "      <td>0.0</td>\n",
       "      <td>0.869420</td>\n",
       "      <td>6.875396</td>\n",
       "      <td>65.2</td>\n",
       "      <td>4.347275</td>\n",
       "      <td>1.0</td>\n",
       "      <td>307.0</td>\n",
       "      <td>15.534711</td>\n",
       "      <td>397.462329</td>\n",
       "      <td>5.715647</td>\n",
       "      <td>24.0</td>\n",
       "    </tr>\n",
       "    <tr>\n",
       "      <th>1</th>\n",
       "      <td>0.141576</td>\n",
       "      <td>0.0</td>\n",
       "      <td>7.315612</td>\n",
       "      <td>0.0</td>\n",
       "      <td>0.549711</td>\n",
       "      <td>6.499894</td>\n",
       "      <td>78.9</td>\n",
       "      <td>5.315684</td>\n",
       "      <td>2.0</td>\n",
       "      <td>255.0</td>\n",
       "      <td>17.914131</td>\n",
       "      <td>397.012611</td>\n",
       "      <td>9.338417</td>\n",
       "      <td>21.6</td>\n",
       "    </tr>\n",
       "    <tr>\n",
       "      <th>2</th>\n",
       "      <td>0.380457</td>\n",
       "      <td>0.0</td>\n",
       "      <td>7.340354</td>\n",
       "      <td>0.0</td>\n",
       "      <td>0.697928</td>\n",
       "      <td>7.263489</td>\n",
       "      <td>61.1</td>\n",
       "      <td>5.356935</td>\n",
       "      <td>2.0</td>\n",
       "      <td>243.0</td>\n",
       "      <td>17.919989</td>\n",
       "      <td>396.628236</td>\n",
       "      <td>4.142473</td>\n",
       "      <td>34.7</td>\n",
       "    </tr>\n",
       "    <tr>\n",
       "      <th>3</th>\n",
       "      <td>0.313563</td>\n",
       "      <td>0.0</td>\n",
       "      <td>2.562407</td>\n",
       "      <td>0.0</td>\n",
       "      <td>0.599629</td>\n",
       "      <td>7.209732</td>\n",
       "      <td>45.8</td>\n",
       "      <td>6.103983</td>\n",
       "      <td>3.0</td>\n",
       "      <td>226.0</td>\n",
       "      <td>18.979527</td>\n",
       "      <td>398.564784</td>\n",
       "      <td>3.239272</td>\n",
       "      <td>33.4</td>\n",
       "    </tr>\n",
       "    <tr>\n",
       "      <th>4</th>\n",
       "      <td>0.330105</td>\n",
       "      <td>0.0</td>\n",
       "      <td>2.497337</td>\n",
       "      <td>0.0</td>\n",
       "      <td>0.476077</td>\n",
       "      <td>7.184111</td>\n",
       "      <td>54.2</td>\n",
       "      <td>6.264372</td>\n",
       "      <td>3.0</td>\n",
       "      <td>234.0</td>\n",
       "      <td>18.708888</td>\n",
       "      <td>399.487766</td>\n",
       "      <td>6.115159</td>\n",
       "      <td>36.2</td>\n",
       "    </tr>\n",
       "  </tbody>\n",
       "</table>\n",
       "</div>"
      ],
      "text/plain": [
       "       CRIM    ZN     INDUS  CHAS       NOX        RM   AGE       DIS  RAD  \\\n",
       "0  0.218960  18.0  2.629288   0.0  0.869420  6.875396  65.2  4.347275  1.0   \n",
       "1  0.141576   0.0  7.315612   0.0  0.549711  6.499894  78.9  5.315684  2.0   \n",
       "2  0.380457   0.0  7.340354   0.0  0.697928  7.263489  61.1  5.356935  2.0   \n",
       "3  0.313563   0.0  2.562407   0.0  0.599629  7.209732  45.8  6.103983  3.0   \n",
       "4  0.330105   0.0  2.497337   0.0  0.476077  7.184111  54.2  6.264372  3.0   \n",
       "\n",
       "     TAX    PTRATIO           B     LSTAT  MEDV  \n",
       "0  307.0  15.534711  397.462329  5.715647  24.0  \n",
       "1  255.0  17.914131  397.012611  9.338417  21.6  \n",
       "2  243.0  17.919989  396.628236  4.142473  34.7  \n",
       "3  226.0  18.979527  398.564784  3.239272  33.4  \n",
       "4  234.0  18.708888  399.487766  6.115159  36.2  "
      ]
     },
     "execution_count": 196,
     "metadata": {},
     "output_type": "execute_result"
    }
   ],
   "source": [
    "# Load data\n",
    "data = np.loadtxt('data.txt')\n",
    "target = np.loadtxt('MEDV.txt')\n",
    "\n",
    "# Creating dataframe for dataset with both inputs and target\n",
    "bdata = pd.DataFrame(data)\n",
    "\n",
    "# Labeling columns\n",
    "bdata.columns = ['CRIM', 'ZN', 'INDUS', 'CHAS', 'NOX','RM','AGE','DIS','RAD','TAX','PTRATIO','B','LSTAT']\n",
    "bdata['MEDV'] = target\n",
    "\n",
    "bdata.head()"
   ]
  },
  {
   "cell_type": "markdown",
   "metadata": {
    "id": "2cbXmKF9jl7L"
   },
   "source": [
    "---\n",
    "\n",
    "## Part 1: Getting oriented\n",
    "\n",
    "\n",
    "### 1.1 Use existing libraries\n",
    "\n",
    "Soon, you will write your own gradient descent algorithm, which you will then use to minimize the squared error cost function.  First, however, let's use the canned versions that come with Python, to make sure we understand what we're aiming to achieve.\n",
    "\n",
    "Using the same Boston housing prices dataset, use the [Linear Regression class](http://scikit-learn.org/stable/modules/generated/sklearn.linear_model.LinearRegression.html) from sklearn or the [OLS class](http://wiki.scipy.org/Cookbook/OLS) from SciPy to explore the relationship between median housing price and number of rooms per house. Do the following:\n",
    "\n",
    "(a) Regress the housing price on the number of rooms per house. Draw a scatter plot of housing price (y-axis) against rooms (x-axis), and draw the regression line in blue.  You might want to make the dots semi-transparent if it improves the presentation of the figure. \n",
    "\n",
    "(b) Regress the housing price on the number of rooms per house and the (number of rooms per house) squared.  Show the (curved) regression line in green. \n",
    "\n",
    "(c) Interpret your results."
   ]
  },
  {
   "cell_type": "code",
   "execution_count": 199,
   "metadata": {
    "id": "hxCNK0pTjl7L",
    "tags": []
   },
   "outputs": [
    {
     "name": "stdout",
     "output_type": "stream",
     "text": [
      "                            OLS Regression Results                            \n",
      "==============================================================================\n",
      "Dep. Variable:                   MEDV   R-squared:                       0.473\n",
      "Model:                            OLS   Adj. R-squared:                  0.472\n",
      "Method:                 Least Squares   F-statistic:                     452.3\n",
      "Date:                Thu, 09 Mar 2023   Prob (F-statistic):           4.12e-72\n",
      "Time:                        23:33:08   Log-Likelihood:                -1678.2\n",
      "No. Observations:                 506   AIC:                             3360.\n",
      "Df Residuals:                     504   BIC:                             3369.\n",
      "Df Model:                           1                                         \n",
      "Covariance Type:            nonrobust                                         \n",
      "==============================================================================\n",
      "                 coef    std err          t      P>|t|      [0.025      0.975]\n",
      "------------------------------------------------------------------------------\n",
      "Intercept    -35.5762      2.748    -12.944      0.000     -40.976     -30.176\n",
      "RM             8.9599      0.421     21.267      0.000       8.132       9.788\n",
      "==============================================================================\n",
      "Omnibus:                      105.253   Durbin-Watson:                   0.705\n",
      "Prob(Omnibus):                  0.000   Jarque-Bera (JB):              604.717\n",
      "Skew:                           0.763   Prob(JB):                    4.87e-132\n",
      "Kurtosis:                       8.133   Cond. No.                         61.7\n",
      "==============================================================================\n",
      "\n",
      "Notes:\n",
      "[1] Standard Errors assume that the covariance matrix of the errors is correctly specified.\n"
     ]
    },
    {
     "data": {
      "image/png": "[encoded data removed]",
      "text/plain": [
       "<Figure size 1200x800 with 1 Axes>"
      ]
     },
     "metadata": {},
     "output_type": "display_data"
    }
   ],
   "source": [
    "# (a)\n",
    "# Fit model\n",
    "model1 = smf.ols(formula = 'MEDV ~ RM', data = bdata).fit()\n",
    "\n",
    "print(model1.summary())\n",
    "\n",
    "# Make a plot\n",
    "import matplotlib.pyplot as plt\n",
    "plt.figure(figsize=(12,8))\n",
    "\n",
    "plt.scatter(bdata['RM'],bdata['MEDV'] ,color = 'black', s = 10, alpha = 0.3)\n",
    "plt.plot(bdata['RM'], 8.9599*bdata['RM'] - 35.5762, color = 'blue')\n",
    "plt.xlabel(\"Number of rooms per house\")\n",
    "plt.ylabel(\"Median housing price (in $1000's)\")\n",
    "plt.title('Linear Regression of the housing price on the number of rooms per house')\n",
    "plt.show()"
   ]
  },
  {
   "cell_type": "markdown",
   "metadata": {},
   "source": [
    "From the result, we can see that the coefficient is 8.9599 which means for each room increased in the house, the median housing price will increase 8.9599 (in 1000s dollor). The intercept value is -35.5762 which mean when we have no room for each house, the median housing price will be -35.5762 (in 1000s dollor). R^2 is 0.473 which means the total amount of variance explained by the simple linear regression model is around 47.3% of the total."
   ]
  },
  {
   "cell_type": "code",
   "execution_count": 200,
   "metadata": {},
   "outputs": [
    {
     "name": "stdout",
     "output_type": "stream",
     "text": [
      "                            OLS Regression Results                            \n",
      "==============================================================================\n",
      "Dep. Variable:                   MEDV   R-squared:                       0.539\n",
      "Model:                            OLS   Adj. R-squared:                  0.538\n",
      "Method:                 Least Squares   F-statistic:                     294.5\n",
      "Date:                Thu, 09 Mar 2023   Prob (F-statistic):           2.19e-85\n",
      "Time:                        23:34:23   Log-Likelihood:                -1644.1\n",
      "No. Observations:                 506   AIC:                             3294.\n",
      "Df Residuals:                     503   BIC:                             3307.\n",
      "Df Model:                           2                                         \n",
      "Covariance Type:            nonrobust                                         \n",
      "==============================================================================\n",
      "                 coef    std err          t      P>|t|      [0.025      0.975]\n",
      "------------------------------------------------------------------------------\n",
      "Intercept     71.7363     12.865      5.576      0.000      46.460      97.013\n",
      "RM           -23.7896      3.867     -6.152      0.000     -31.387     -16.192\n",
      "RM2            2.4691      0.290      8.513      0.000       1.899       3.039\n",
      "==============================================================================\n",
      "Omnibus:                       83.768   Durbin-Watson:                   0.715\n",
      "Prob(Omnibus):                  0.000   Jarque-Bera (JB):              926.703\n",
      "Skew:                           0.270   Prob(JB):                    5.87e-202\n",
      "Kurtosis:                       9.608   Cond. No.                     2.13e+03\n",
      "==============================================================================\n",
      "\n",
      "Notes:\n",
      "[1] Standard Errors assume that the covariance matrix of the errors is correctly specified.\n",
      "[2] The condition number is large, 2.13e+03. This might indicate that there are\n",
      "strong multicollinearity or other numerical problems.\n"
     ]
    },
    {
     "data": {
      "image/png": "[encoded data removed]",
      "text/plain": [
       "<Figure size 1200x800 with 1 Axes>"
      ]
     },
     "metadata": {},
     "output_type": "display_data"
    }
   ],
   "source": [
    "# (b).\n",
    "# Fit model.\n",
    "bdata['RM2'] = np.power(bdata[\"RM\"].values, 2)\n",
    "\n",
    "model2 = smf.ols(formula = 'MEDV ~ RM + RM2', data = bdata).fit()\n",
    "\n",
    "print(model2.summary())\n",
    "\n",
    "# Make graph.\n",
    "import matplotlib.pyplot as plt\n",
    "plt.figure(figsize=(12,8))\n",
    "X = np.linspace(bdata[\"RM\"].min(), bdata[\"RM\"].max(), 1000)\n",
    "plt.scatter(bdata['RM'], bdata['MEDV'] ,color = 'black', s = 10, alpha = 0.3)\n",
    "plt.plot(X, -23.7896*X + 2.4691 * X**2 + 71.7363, color = 'green')\n",
    "plt.xlabel(\"Number of rooms per house\")\n",
    "plt.ylabel(\"Median housing price (in $1000's)\")\n",
    "plt.title('Regression of the housing price on the number of rooms per house and the (number of rooms per house) squared')\n",
    "plt.show()"
   ]
  },
  {
   "cell_type": "markdown",
   "metadata": {},
   "source": [
    "From the result, we can see that the coefficient of RM term is -23.7896 which means for each room increased in the house, the median housing price will decrease 23.7896 (in 1000s dollor). The coefficient of RM squared term is 2.4691 which means for each room squared increased in the house, the median housing price will decrease 2.4691 (in 1000s dollor).The intercept value is 71.7363 which mean when we have no room for each house, the median housing price will be 71.7363 (in 1000s dollor). R^2 is 0.539 which means the total amount of variance explained by the quadratic model is around 53.9% of the total."
   ]
  },
  {
   "cell_type": "markdown",
   "metadata": {
    "id": "hkO8pHRvjl7N"
   },
   "source": [
    "### 1.2 Training and testing\n",
    "\n",
    "Chances are, for the above problem you used all of your data to fit the regression line. In some circumstances this is a reasonable thing to do, but often this will result in overfitting. Let's redo the above results the ML way, using careful cross-validation.  Since you are now experts in cross-validation, and have written your own cross-validation algorithm from scratch, you can now take a shortcut and use the libraries that others have built for you.\n",
    "\n",
    "Using the [cross-validation functions](http://scikit-learn.org/stable/modules/cross_validation.html) from scikit-learn, use 5-fold cross-validation to fit the regression model (a) from 1.1, i.e. the linear fit of housing price on number of rooms per house. Each fold of cross-validation will give you one slope coefficient and one intercept coefficient.  Create a new scatterplot of housing price against rooms, and draw the five different regression lines in light blue, and the original regression line from 1.1 in red (which was estimated using the full dataset). What do you notice?"
   ]
  },
  {
   "cell_type": "code",
   "execution_count": 201,
   "metadata": {
    "id": "gnVo_0TDjl7O",
    "tags": []
   },
   "outputs": [
    {
     "data": {
      "image/png": "[encoded data removed]",
      "text/plain": [
       "<Figure size 1000x600 with 1 Axes>"
      ]
     },
     "metadata": {},
     "output_type": "display_data"
    }
   ],
   "source": [
    "from sklearn.model_selection import KFold \n",
    "from sklearn import linear_model as lm\n",
    "\n",
    "kf = KFold(n_splits=5, shuffle=True, random_state=1)\n",
    "\n",
    "coeff = []\n",
    "\n",
    "for train_index, test_index in kf.split(bdata):\n",
    "    X_train, y_train = bdata[['RM']].iloc[train_index], bdata[['MEDV']].iloc[train_index] \n",
    "    model = lm.LinearRegression().fit(X_train, y_train)\n",
    "    coeff.append([model.coef_, model.intercept_])\n",
    "\n",
    "# Graph\n",
    "plt.figure(figsize=(10, 6))\n",
    "plt.scatter(bdata['RM'], bdata['MEDV'], color='black', s=10, alpha=0.3) \n",
    "for i in range(5):\n",
    "    plt.plot(bdata['RM'], coeff[i][1] + coeff[i][0]*bdata[['RM']], color='lightblue', linewidth=1.5) \n",
    "plt.plot(bdata['RM'], 8.9599*bdata['RM'] - 35.5762, color='red', linewidth=1.5)\n",
    "plt.xlabel(\"Number of rooms per house\")\n",
    "plt.ylabel(\"Median housing price (in $1000's)\")\n",
    "plt.legend(['Data'] +['Linear Regression On Fold ' + str(i+1) for i in range(5)] + ['Linear Regression On Full Dataset'], loc='upper left')\n",
    "plt.title('Housing price against rooms with differentregression lines') \n",
    "plt.show()"
   ]
  },
  {
   "cell_type": "markdown",
   "metadata": {},
   "source": [
    "The slope coefficient from  1.1 is very similar to the slope coefficients got using the 5-fold cross-validation. The variance is biggest among the edge of the ranage such as 4 and 9. "
   ]
  },
  {
   "cell_type": "markdown",
   "metadata": {
    "id": "cblgmgiBjl7P"
   },
   "source": [
    "## Part 2: Gradient descent: Linear Regression\n",
    "\n",
    "This is where it gets fun!\n",
    "\n",
    "### 2.1 Implement gradient descent with one independent variable (average rooms per house)\n",
    "\n",
    "Implement the batch gradient descent algorithm that we discussed in class. Use the version you implement to regress the housing price on the number of rooms per house. Experiment with 3-4 different values of the learning rate *R*, and do the following:\n",
    "\n",
    "* Report the values of alpha and beta that minimize the loss function\n",
    "* Report the number of iterations it takes for your algorithm to converge (for each value of *R*)\n",
    "* Report the total running time of your algorithm, in seconds\n",
    "* How do your coefficients compare to the ones estimated through standard libraries? Does this depend on *R*?\n",
    "\n",
    "Some skeleton code is provided below, but you should feel free to delete this code and start from scratch if you prefer.\n",
    "\n",
    "* *Hint 1: Don't forget to implement a stopping condition, so that at every iteration you check whether your results have converged. Common approaches to this are to (a) check to see if the loss has stopped decreasing; and (b) check if both your current parameter esimates are close to the estimates from the previous iteration.  In both cases, \"close\" should not be ==0, it should be <=epsilon, where epsilon is something very small (like 0.0001).*\n",
    "* *Hint 2: Some people like to include a MaxIterations parameter in their gradient descent algorithm, to prevent divergence. *\n",
    "* *Hint 3: To test the parameters estimated by your implementation of GD, compare the results with that of `sklearn.linear_model.LinearRegression()`*"
   ]
  },
  {
   "cell_type": "code",
   "execution_count": 6,
   "metadata": {},
   "outputs": [],
   "source": [
    "def bivariate_ols(xvalues, yvalues, R=0.01, MaxIterations=1000):\n",
    "    start_time = time.time()\n",
    "    \n",
    "    X = np.array(xvalues)\n",
    "    Y = np.array(yvalues)\n",
    "\n",
    "    alpha = np.random.rand()\n",
    "    beta = np.random.rand()\n",
    "    \n",
    "    dj_alpha = np.random.rand()\n",
    "    dj_beta = np.random.rand()\n",
    "    \n",
    "    N = len(Y)\n",
    "    iteration = 0\n",
    "    epsilon = 0.0001\n",
    "    \n",
    "    while (iteration < MaxIterations) and ((np.abs(R * dj_alpha) > epsilon) or np.abs(R * dj_beta) > epsilon):\n",
    "   \n",
    "        dj_alpha = 1/N * np.sum((alpha + beta * X) - Y)\n",
    "        dj_beta = 1/N * np.sum(((alpha + beta * X) - Y) * X)\n",
    "        \n",
    "        alpha = alpha - R * dj_alpha\n",
    "        beta = beta - R * dj_beta\n",
    "        \n",
    "        iteration += 1\n",
    "    \n",
    "    time_taken = time.time() - start_time \n",
    "    \n",
    "    return alpha, beta, iteration, time_taken"
   ]
  },
  {
   "cell_type": "code",
   "execution_count": 40,
   "metadata": {},
   "outputs": [
    {
     "name": "stdout",
     "output_type": "stream",
     "text": [
      "learning rate:  0.001 ; num iterations:  100000 \n",
      " alpha:  -23.901736620256305 ; beta:  7.180380109281306 \n",
      " time taken:  2.33 s\n",
      "\n",
      "learning rate:  0.005 ; num iterations:  53164 \n",
      " alpha:  -33.82520849508446 ; beta:  8.693021389060478 \n",
      " time taken:  1.14 s\n",
      "\n",
      "learning rate:  0.01 ; num iterations:  32761 \n",
      " alpha:  -34.700770944092554 ; beta:  8.8264839433056 \n",
      " time taken:  0.7 s\n",
      "\n"
     ]
    }
   ],
   "source": [
    "import time\n",
    "\n",
    "X = bdata['RM'] \n",
    "Y = bdata['MEDV']\n",
    "\n",
    "# Try different values of the learning rate R.\n",
    "LRs = [0.001, 0.005, 0.01] \n",
    "for LR in LRs:\n",
    "    alpha, beta, iteration, time_taken= bivariate_ols(X, Y, R = LR, MaxIterations = 100000) \n",
    "    print('Learning Rate: ', LR, '; Iterations: ', iteration, \n",
    "          '\\n alpha: ', alpha, '; beta: ', beta,\n",
    "          '\\n time taken: ', round(time_taken, 2), 's\\n')"
   ]
  },
  {
   "cell_type": "raw",
   "metadata": {},
   "source": [
    "From the result, we can see that for R > 0.001, the coeff is -34.701 and the intercept is 8.826 which are pretty similar to the ones estimated through the library that is -35.576 and 8.960. Also, it takes more time calculating the smaller R.\n",
    "\n",
    "However, we got quite different results for R = 0.01 and R = 0.001. "
   ]
  },
  {
   "cell_type": "markdown",
   "metadata": {
    "id": "jZqg5yW3jl7Q"
   },
   "source": [
    "### 2.2 Data normalization (done for you!)\n",
    "\n",
    "Soon, you will implement a version of gradient descent that can use an arbitrary number of independent variables. Before doing this, we want to give you some code in case you want to standardize your features."
   ]
  },
  {
   "cell_type": "code",
   "execution_count": 10,
   "metadata": {
    "id": "lU9-kG3Tjl7Q",
    "tags": []
   },
   "outputs": [],
   "source": [
    "def standardize(raw_data):\n",
    "    return ((raw_data - np.mean(raw_data, axis = 0)) / np.std(raw_data, axis = 0))"
   ]
  },
  {
   "cell_type": "markdown",
   "metadata": {
    "id": "vUUackd0jl7R"
   },
   "source": [
    "### 2.3 Implement gradient descent with an arbitrary number of independent variables\n",
    "\n",
    "Now that you have a simple version of gradient descent working, create a version of gradient descent that can take more than one independent variable.  Assume all independent variables will be continuous.  Test your algorithm using TAX and RM as independent variables. Standardize these variables before inputting them to the gradient descent algorithm. \n",
    "\n",
    "As before,  report and interpret your estimated coefficients, the number of iterations before convergence, and the total running time of your algorithm. Experiment with 2-3 different values of R.\n",
    "\n",
    "* *Hint 1: Be careful to implement this efficiently, otherwise it might take a long time for your code to run. Commands like `np.dot` can be a good friend to you on this problem*\n",
    "\n",
    "* *Hint 2: To test the parameters estimated by your implementation of GD, compare the results with that of `sklearn.linear_model.LinearRegression()`*"
   ]
  },
  {
   "cell_type": "code",
   "execution_count": 7,
   "metadata": {},
   "outputs": [],
   "source": [
    "def multivariate_ols(xvalues, yvalues, R, MaxIterations = 1000):\n",
    "    start_time = time.time()\n",
    "\n",
    "    X = np.array(xvalues)\n",
    "    Y = np.array(yvalues)\n",
    "    \n",
    "    N, p = np.shape(X)\n",
    "    \n",
    "    alpha = np.random.rand()\n",
    "    beta = np.random.rand(p)\n",
    "    \n",
    "    dj_alpha = np.random.rand()\n",
    "    dj_beta = np.random.rand(p)\n",
    "    \n",
    "    epsilon = 0.0001\n",
    "    \n",
    "    iteration = 0\n",
    "    \n",
    "    while (iteration < MaxIterations) and ((np.abs(R * dj_alpha) > epsilon) or np.all(np.abs(R * dj_beta)) > epsilon):\n",
    "        \n",
    "        dj_alpha = (1/N) * np.sum(alpha + np.sum(beta*X, axis=1) - Y)\n",
    "        \n",
    "        dj_beta = (1/N) * np.sum((alpha + np.sum(beta*X, axis=1) - Y)*(X.T), axis=1)\n",
    "        \n",
    "        alpha = alpha - R * dj_alpha\n",
    "        \n",
    "        beta = beta - R * dj_beta\n",
    "        \n",
    "        iteration += 1\n",
    "    \n",
    "    time_taken = time.time() - start_time \n",
    "    \n",
    "    return alpha, beta, iteration, time_taken"
   ]
  },
  {
   "cell_type": "code",
   "execution_count": 16,
   "metadata": {},
   "outputs": [
    {
     "name": "stdout",
     "output_type": "stream",
     "text": [
      "learning rate:  0.001 ; num iterations:  100000 \n",
      " alpha:  22.532806324108915 ; beta:  [-2.72135809  5.53874104] \n",
      " time taken:  5.41 s\n",
      "\n",
      "learning rate:  0.005 ; num iterations:  100000 \n",
      " alpha:  22.532806324110336 ; beta:  [-2.72135809  5.53874104] \n",
      " time taken:  5.5 s\n",
      "\n",
      "learning rate:  0.01 ; num iterations:  100000 \n",
      " alpha:  22.532806324110513 ; beta:  [-2.72135809  5.53874104] \n",
      " time taken:  5.32 s\n",
      "\n"
     ]
    }
   ],
   "source": [
    "import time\n",
    "xvalues = bdata[['TAX','RM']] \n",
    "xvalues_norm = standardize(xvalues)\n",
    "yvalues = bdata['MEDV']\n",
    "\n",
    "# Try different values of the learning rate R.\n",
    "LRs = [0.001, 0.005, 0.01] \n",
    "for LR in LRs:\n",
    "    alpha, beta, iteration, time_taken = multivariate_ols(xvalues_norm, yvalues, R = LR, MaxIterations = 100000) \n",
    "    print('Learning rate: ', LR, '; Iterations: ', iteration,\n",
    "          '\\n alpha: ', alpha, '; beta: ', beta,\n",
    "          '\\n time taken: ', round(time_taken, 2), 's\\n')"
   ]
  },
  {
   "cell_type": "code",
   "execution_count": 17,
   "metadata": {},
   "outputs": [
    {
     "name": "stdout",
     "output_type": "stream",
     "text": [
      "sklearn coefficients:  [-2.72135809  5.53874104]\n",
      "sklearn intercept:  22.53280632411069\n"
     ]
    }
   ],
   "source": [
    "# Check with sklearn function.\n",
    "from sklearn import linear_model as lm\n",
    "model2 = lm.LinearRegression().fit(xvalues_norm, yvalues)\n",
    "print('sklearn coefficients: ', model2.coef_)\n",
    "print('sklearn intercept: ', model2.intercept_)"
   ]
  },
  {
   "cell_type": "markdown",
   "metadata": {
    "id": "E2o_SDdcjl7R"
   },
   "source": [
    "From the result, we can see that the coeff of TAX is -2.243 which means for each unit increase of full-value property-tax rate per $10,000, the median housing price will decrease 23.7896 (in 1000s dollor). The coeff of RM is 5.818 which means for each room increased in the house, the median housing price will increase 5.818 (in 1000s dollor). The intercept is 22.533 which mean when we have no room for each house, the median housing price will be 22.533 (in 1000s dollor). All the result are pretty similar to the ones estimated through the library. It takes more time calculating the smaller R. Different R got the similar results here when convergence creterion is met. "
   ]
  },
  {
   "cell_type": "markdown",
   "metadata": {
    "id": "dMXw_qcYjl7S"
   },
   "source": [
    "### 2.4 Compare standardized vs. non-standardized results\n",
    "\n",
    "Repeat the analysis from 2.3, but this time do not standardize your variables - i.e., use the original data. Use the same three values of R (0.1, 0.01, and 0.001). What do you notice about the running time and convergence properties of your algorithm?"
   ]
  },
  {
   "cell_type": "code",
   "execution_count": 14,
   "metadata": {
    "id": "AnEvJxxhjl7S",
    "tags": []
   },
   "outputs": [
    {
     "name": "stderr",
     "output_type": "stream",
     "text": [
      "/Users/shuyaowang/opt/anaconda3/lib/python3.8/site-packages/numpy/core/fromnumeric.py:86: RuntimeWarning: overflow encountered in reduce\n",
      "  return ufunc.reduce(obj, axis, dtype, out, **passkwargs)\n",
      "/var/folders/z1/j91g8rbs0z5_97z1vqszz6lw0000gn/T/ipykernel_25254/1160364405.py:27: RuntimeWarning: invalid value encountered in subtract\n",
      "  beta = beta - R * dj_beta\n"
     ]
    },
    {
     "name": "stdout",
     "output_type": "stream",
     "text": [
      "learning rate:  0.1 ; num iterations:  100000 \n",
      " alpha:  nan ; beta:  [nan nan] \n",
      " time taken:  5.41 s\n",
      "\n",
      "learning rate:  0.01 ; num iterations:  100000 \n",
      " alpha:  nan ; beta:  [nan nan] \n",
      " time taken:  5.41 s\n",
      "\n",
      "learning rate:  0.001 ; num iterations:  100000 \n",
      " alpha:  nan ; beta:  [nan nan] \n",
      " time taken:  5.72 s\n",
      "\n"
     ]
    }
   ],
   "source": [
    "xvalues = bdata[['TAX', 'RM']] \n",
    "yvalues = bdata['MEDV']\n",
    "\n",
    "# Try different values of the learning rate R.\n",
    "LRs = [0.1, 0.01, 0.001] \n",
    "for LR in LRs:\n",
    "    alpha, beta, iteration, time_taken = multivariate_ols(xvalues, yvalues, R = LR, MaxIterations=100000) \n",
    "    print('Learning Rate: ', LR, '; Iterations: ', iteration,\n",
    "          '\\n alpha: ', alpha, '; beta: ', beta,\n",
    "          '\\n time taken: ', round(time_taken, 2), 's\\n')"
   ]
  },
  {
   "cell_type": "markdown",
   "metadata": {
    "id": "BFdApjEsjl7S"
   },
   "source": [
    "We don't get the converged values of the intercept and coeff. It also takes more time to calculate. "
   ]
  },
  {
   "cell_type": "markdown",
   "metadata": {
    "id": "5pEk2_UZjl7S"
   },
   "source": [
    "## 3. Prediction\n",
    "\n",
    "Let's use our fitted model to make predictions about housing prices. Make sure to first standardize your features before proceeding.\n",
    "\n",
    "### 3.1 Cross-Validation\n",
    "\n",
    "Unless you were careful above, you probably overfit your data again. Let's fix that. Use 5-fold cross-validation to re-fit the multivariate regression from 2.3 above, and report your estimated coefficients (there should be three, corresponding to the intercept and the two coefficients for TAX and RM). Since there are 5 folds, there will be 5 sets of three coefficients -- report them all in a 5x3 table."
   ]
  },
  {
   "cell_type": "code",
   "execution_count": 80,
   "metadata": {
    "id": "DGQRERuIjl7T",
    "tags": []
   },
   "outputs": [],
   "source": [
    "X = standardize(bdata[['TAX', 'RM']]) \n",
    "Y = bdata['MEDV']\n",
    "\n",
    "from sklearn.model_selection import KFold\n",
    "kf = KFold(n_splits=5, shuffle=True, random_state=1)\n",
    "\n",
    "coeff= []\n",
    "rmses = []\n",
    "\n",
    "for train_index, test_index in kf.split(bdata):\n",
    "    X_train, y_train = X.iloc[train_index], Y.iloc[train_index] \n",
    "    \n",
    "    # Calculate for the coef\n",
    "    alpha, beta, iteration, time_taken = multivariate_ols(X_train, y_train, R=0.005, MaxIterations=100000) \n",
    "    \n",
    "    result = np.append(beta, alpha)\n",
    "    coeff.append(result)\n",
    "    \n",
    "    # Calculate the RMSE\n",
    "    X_test, y_test = X.iloc[test_index], Y.iloc[test_index] \n",
    "    y_pred = alpha + beta[0] * X_test.iloc[:,0] + beta[1] * X_test.iloc[:,1]\n",
    "    rmse = np.sqrt(np.mean((y_pred - y_test)**2))\n",
    "    rmses.append(rmse)"
   ]
  },
  {
   "cell_type": "code",
   "execution_count": 63,
   "metadata": {},
   "outputs": [
    {
     "data": {
      "text/html": [
       "<div>\n",
       "<style scoped>\n",
       "    .dataframe tbody tr th:only-of-type {\n",
       "        vertical-align: middle;\n",
       "    }\n",
       "\n",
       "    .dataframe tbody tr th {\n",
       "        vertical-align: top;\n",
       "    }\n",
       "\n",
       "    .dataframe thead th {\n",
       "        text-align: right;\n",
       "    }\n",
       "</style>\n",
       "<table border=\"1\" class=\"dataframe\">\n",
       "  <thead>\n",
       "    <tr style=\"text-align: right;\">\n",
       "      <th></th>\n",
       "      <th>TAX</th>\n",
       "      <th>RM</th>\n",
       "      <th>Intercept</th>\n",
       "    </tr>\n",
       "  </thead>\n",
       "  <tbody>\n",
       "    <tr>\n",
       "      <th>fold1</th>\n",
       "      <td>-2.758936</td>\n",
       "      <td>5.270313</td>\n",
       "      <td>22.564483</td>\n",
       "    </tr>\n",
       "    <tr>\n",
       "      <th>fold2</th>\n",
       "      <td>-2.676795</td>\n",
       "      <td>5.868423</td>\n",
       "      <td>22.454940</td>\n",
       "    </tr>\n",
       "    <tr>\n",
       "      <th>fold3</th>\n",
       "      <td>-2.559677</td>\n",
       "      <td>5.455007</td>\n",
       "      <td>22.744791</td>\n",
       "    </tr>\n",
       "    <tr>\n",
       "      <th>fold4</th>\n",
       "      <td>-2.800189</td>\n",
       "      <td>5.684033</td>\n",
       "      <td>22.437178</td>\n",
       "    </tr>\n",
       "    <tr>\n",
       "      <th>fold5</th>\n",
       "      <td>-2.786884</td>\n",
       "      <td>5.430058</td>\n",
       "      <td>22.469460</td>\n",
       "    </tr>\n",
       "  </tbody>\n",
       "</table>\n",
       "</div>"
      ],
      "text/plain": [
       "            TAX        RM  Intercept\n",
       "fold1 -2.758936  5.270313  22.564483\n",
       "fold2 -2.676795  5.868423  22.454940\n",
       "fold3 -2.559677  5.455007  22.744791\n",
       "fold4 -2.800189  5.684033  22.437178\n",
       "fold5 -2.786884  5.430058  22.469460"
      ]
     },
     "execution_count": 63,
     "metadata": {},
     "output_type": "execute_result"
    }
   ],
   "source": [
    "table = pd.DataFrame(coeff, columns=['TAX', 'RM', 'Intercept'],index=['fold1', 'fold2', 'fold3', 'fold4', 'fold5'])\n",
    "table"
   ]
  },
  {
   "cell_type": "code",
   "execution_count": null,
   "metadata": {},
   "outputs": [],
   "source": [
    "# Results are quite similar of different fold values. "
   ]
  },
  {
   "cell_type": "markdown",
   "metadata": {
    "id": "jaRVr5wpjl7T"
   },
   "source": [
    "### 3.2 Predicted values and RMSE\n",
    "\n",
    "Let's figure out how accurate this predictive model turned out to be. Compute the cross-validated RMSE for each of the 5 folds above. In other words, in fold 1, use the parameters estimated on the 80% of the data to make predictions for the 20%, and calculate the RMSE for those 20%. Repeate this for the remaining folds. Report the RMSE for each of the 5-folds, and the average (mean) RMSE across the five folds. How does this average RMSE compare to the performance of your nearest neighbor algorithm from the last problem set?"
   ]
  },
  {
   "cell_type": "code",
   "execution_count": 82,
   "metadata": {
    "id": "9I1zFLBajl7T",
    "tags": []
   },
   "outputs": [
    {
     "data": {
      "text/plain": [
       "[5.942164091628194,\n",
       " 6.988208157278777,\n",
       " 5.122130917046626,\n",
       " 6.6380248558253,\n",
       " 6.077944897065698]"
      ]
     },
     "execution_count": 82,
     "metadata": {},
     "output_type": "execute_result"
    }
   ],
   "source": [
    "rmses"
   ]
  },
  {
   "cell_type": "code",
   "execution_count": 83,
   "metadata": {},
   "outputs": [
    {
     "data": {
      "text/plain": [
       "6.153694583768919"
      ]
     },
     "execution_count": 83,
     "metadata": {},
     "output_type": "execute_result"
    }
   ],
   "source": [
    "np.mean(rmses)"
   ]
  },
  {
   "cell_type": "markdown",
   "metadata": {
    "id": "61FuGxiYjl7T"
   },
   "source": [
    "The average RMSE is 6.154. From previous probelm set, rmse is 4.61 which is smaller than this one. "
   ]
  },
  {
   "cell_type": "markdown",
   "metadata": {
    "id": "6L-AsWOajl7T"
   },
   "source": [
    "### Extra Credit 1: Logistic Regression\n",
    "\n",
    "For extra credit, implement logistic regression using gradient descent. Create a new variable (EXPENSIVE) to indicate whether the median housing price is more than $40,000. Use this as the binary outcome variable in your logistic regression model with CHAS and RM as inputs. Report your results."
   ]
  },
  {
   "cell_type": "code",
   "execution_count": null,
   "metadata": {
    "collapsed": true,
    "id": "UR9qYdndjl7T",
    "jupyter": {
     "outputs_hidden": true
    }
   },
   "outputs": [],
   "source": [
    "# Your code here"
   ]
  },
  {
   "cell_type": "markdown",
   "metadata": {
    "id": "04AamlXLjl7T"
   },
   "source": [
    "*Discuss your results here*"
   ]
  },
  {
   "cell_type": "markdown",
   "metadata": {
    "id": "nvkpICWsjl7T"
   },
   "source": [
    "## 4 Regularization \n",
    "\n",
    "### 4.1 Get prepped\n",
    "\n",
    "Step 1: Create new interaction variables between each possible pair of the F_s features. If you originally had *K* features, you should now have K+(K*(K+1))/2 features. Standardize all of your features.\n",
    "\n",
    "Step 2: Randomly sample 80% of your data and call this the training set, and set aside the remaining 20% as your test set."
   ]
  },
  {
   "cell_type": "code",
   "execution_count": 138,
   "metadata": {
    "id": "89-Zqpssjl7U",
    "tags": []
   },
   "outputs": [
    {
     "name": "stdout",
     "output_type": "stream",
     "text": [
      "       CRIM    ZN     INDUS  CHAS       NOX        RM   AGE       DIS  RAD  \\\n",
      "0  0.218960  18.0  2.629288   0.0  0.869420  6.875396  65.2  4.347275  1.0   \n",
      "1  0.141576   0.0  7.315612   0.0  0.549711  6.499894  78.9  5.315684  2.0   \n",
      "2  0.380457   0.0  7.340354   0.0  0.697928  7.263489  61.1  5.356935  2.0   \n",
      "3  0.313563   0.0  2.562407   0.0  0.599629  7.209732  45.8  6.103983  3.0   \n",
      "4  0.330105   0.0  2.497337   0.0  0.476077  7.184111  54.2  6.264372  3.0   \n",
      "\n",
      "     TAX  ...  TAX_TAX  TAX_PTRATIO          TAX_B    TAX_LSTAT  \\\n",
      "0  307.0  ...  94249.0  4769.156347  122020.935019  1754.703489   \n",
      "1  255.0  ...  65025.0  4568.103295  101238.215718  2381.296325   \n",
      "2  243.0  ...  59049.0  4354.557376   96380.661337  1006.620944   \n",
      "3  226.0  ...  51076.0  4289.373009   90075.641103   732.075560   \n",
      "4  234.0  ...  54756.0  4377.879757   93480.137242  1430.947230   \n",
      "\n",
      "   PTRATIO_PTRATIO    PTRATIO_B  PTRATIO_LSTAT            B_B      B_LSTAT  \\\n",
      "0       241.327253  6174.462506      88.790919  157976.303016  2271.754188   \n",
      "1       320.916074  7112.135745     167.289621  157619.013024  3707.469298   \n",
      "2       321.126013  7107.573705      74.233072  157313.957558  1643.021766   \n",
      "3       360.222430  7564.570909      61.479856  158853.886758  1291.059899   \n",
      "4       350.022485  7473.971812     114.407826  159590.475176  2442.931249   \n",
      "\n",
      "   LSTAT_LSTAT  \n",
      "0    32.668615  \n",
      "1    87.206031  \n",
      "2    17.160083  \n",
      "3    10.492886  \n",
      "4    37.395171  \n",
      "\n",
      "[5 rows x 104 columns]\n",
      "104\n",
      "['CRIM', 'ZN', 'INDUS', 'CHAS', 'NOX', 'RM', 'AGE', 'DIS', 'RAD', 'TAX', 'PTRATIO', 'B', 'LSTAT']\n"
     ]
    }
   ],
   "source": [
    "new_data = bdata.copy()\n",
    "new_data = new_data.drop(columns = ['RM2', 'MEDV'])\n",
    "\n",
    "columns_sum = new_data.columns.tolist()\n",
    "N = len(columns_sum)\n",
    "\n",
    "# Add new features. \n",
    "for i in range(len(columns_sum)):\n",
    "    for j in range(i, len(columns_sum)):\n",
    "        new_var = columns_sum[i] + '_' + columns_sum[j]\n",
    "        new_data[new_var] = bdata[columns_sum[i]] * bdata[columns_sum[j]]\n",
    "\n",
    "print(new_data.head())\n",
    "print(len(new_data.columns))\n",
    "print(columns_sum)"
   ]
  },
  {
   "cell_type": "markdown",
   "metadata": {},
   "source": [
    "There are 14 features in total from original dataset. After adding, we got 104 features. "
   ]
  },
  {
   "cell_type": "code",
   "execution_count": 142,
   "metadata": {},
   "outputs": [
    {
     "data": {
      "text/html": [
       "<div>\n",
       "<style scoped>\n",
       "    .dataframe tbody tr th:only-of-type {\n",
       "        vertical-align: middle;\n",
       "    }\n",
       "\n",
       "    .dataframe tbody tr th {\n",
       "        vertical-align: top;\n",
       "    }\n",
       "\n",
       "    .dataframe thead th {\n",
       "        text-align: right;\n",
       "    }\n",
       "</style>\n",
       "<table border=\"1\" class=\"dataframe\">\n",
       "  <thead>\n",
       "    <tr style=\"text-align: right;\">\n",
       "      <th></th>\n",
       "      <th>CRIM</th>\n",
       "      <th>ZN</th>\n",
       "      <th>INDUS</th>\n",
       "      <th>CHAS</th>\n",
       "      <th>NOX</th>\n",
       "      <th>RM</th>\n",
       "      <th>AGE</th>\n",
       "      <th>DIS</th>\n",
       "      <th>RAD</th>\n",
       "      <th>TAX</th>\n",
       "      <th>...</th>\n",
       "      <th>TAX_TAX</th>\n",
       "      <th>TAX_PTRATIO</th>\n",
       "      <th>TAX_B</th>\n",
       "      <th>TAX_LSTAT</th>\n",
       "      <th>PTRATIO_PTRATIO</th>\n",
       "      <th>PTRATIO_B</th>\n",
       "      <th>PTRATIO_LSTAT</th>\n",
       "      <th>B_B</th>\n",
       "      <th>B_LSTAT</th>\n",
       "      <th>LSTAT_LSTAT</th>\n",
       "    </tr>\n",
       "  </thead>\n",
       "  <tbody>\n",
       "    <tr>\n",
       "      <th>0</th>\n",
       "      <td>-0.416323</td>\n",
       "      <td>0.284830</td>\n",
       "      <td>-1.270520</td>\n",
       "      <td>-0.272599</td>\n",
       "      <td>0.738124</td>\n",
       "      <td>0.552955</td>\n",
       "      <td>-0.120013</td>\n",
       "      <td>0.165247</td>\n",
       "      <td>-0.982843</td>\n",
       "      <td>-0.642280</td>\n",
       "      <td>...</td>\n",
       "      <td>-0.666456</td>\n",
       "      <td>-0.833076</td>\n",
       "      <td>-0.309350</td>\n",
       "      <td>-0.835367</td>\n",
       "      <td>-1.443290</td>\n",
       "      <td>-0.260551</td>\n",
       "      <td>-1.088942</td>\n",
       "      <td>0.497397</td>\n",
       "      <td>-0.827189</td>\n",
       "      <td>-0.783600</td>\n",
       "    </tr>\n",
       "    <tr>\n",
       "      <th>1</th>\n",
       "      <td>-0.425331</td>\n",
       "      <td>-0.487722</td>\n",
       "      <td>-0.586750</td>\n",
       "      <td>-0.272599</td>\n",
       "      <td>-1.184627</td>\n",
       "      <td>0.020504</td>\n",
       "      <td>0.367166</td>\n",
       "      <td>0.624852</td>\n",
       "      <td>-0.867883</td>\n",
       "      <td>-0.950995</td>\n",
       "      <td>...</td>\n",
       "      <td>-0.849329</td>\n",
       "      <td>-0.886279</td>\n",
       "      <td>-0.628821</td>\n",
       "      <td>-0.714306</td>\n",
       "      <td>-0.413379</td>\n",
       "      <td>0.245572</td>\n",
       "      <td>-0.557697</td>\n",
       "      <td>0.488925</td>\n",
       "      <td>-0.282211</td>\n",
       "      <td>-0.557487</td>\n",
       "    </tr>\n",
       "    <tr>\n",
       "      <th>2</th>\n",
       "      <td>-0.397524</td>\n",
       "      <td>-0.487722</td>\n",
       "      <td>-0.583140</td>\n",
       "      <td>-0.272599</td>\n",
       "      <td>-0.293242</td>\n",
       "      <td>1.103260</td>\n",
       "      <td>-0.265812</td>\n",
       "      <td>0.644430</td>\n",
       "      <td>-0.867883</td>\n",
       "      <td>-1.022237</td>\n",
       "      <td>...</td>\n",
       "      <td>-0.886725</td>\n",
       "      <td>-0.942789</td>\n",
       "      <td>-0.703492</td>\n",
       "      <td>-0.979900</td>\n",
       "      <td>-0.410662</td>\n",
       "      <td>0.243110</td>\n",
       "      <td>-1.187464</td>\n",
       "      <td>0.481691</td>\n",
       "      <td>-1.065847</td>\n",
       "      <td>-0.847899</td>\n",
       "    </tr>\n",
       "    <tr>\n",
       "      <th>3</th>\n",
       "      <td>-0.405311</td>\n",
       "      <td>-0.487722</td>\n",
       "      <td>-1.280278</td>\n",
       "      <td>-0.272599</td>\n",
       "      <td>-0.884416</td>\n",
       "      <td>1.027034</td>\n",
       "      <td>-0.809889</td>\n",
       "      <td>0.998977</td>\n",
       "      <td>-0.752922</td>\n",
       "      <td>-1.123163</td>\n",
       "      <td>...</td>\n",
       "      <td>-0.936618</td>\n",
       "      <td>-0.960038</td>\n",
       "      <td>-0.800412</td>\n",
       "      <td>-1.032944</td>\n",
       "      <td>0.095261</td>\n",
       "      <td>0.489781</td>\n",
       "      <td>-1.273772</td>\n",
       "      <td>0.518208</td>\n",
       "      <td>-1.199447</td>\n",
       "      <td>-0.875541</td>\n",
       "    </tr>\n",
       "    <tr>\n",
       "      <th>4</th>\n",
       "      <td>-0.403385</td>\n",
       "      <td>-0.487722</td>\n",
       "      <td>-1.289773</td>\n",
       "      <td>-0.272599</td>\n",
       "      <td>-1.627468</td>\n",
       "      <td>0.990705</td>\n",
       "      <td>-0.511180</td>\n",
       "      <td>1.075097</td>\n",
       "      <td>-0.752922</td>\n",
       "      <td>-1.075668</td>\n",
       "      <td>...</td>\n",
       "      <td>-0.913589</td>\n",
       "      <td>-0.936617</td>\n",
       "      <td>-0.748078</td>\n",
       "      <td>-0.897918</td>\n",
       "      <td>-0.036731</td>\n",
       "      <td>0.440878</td>\n",
       "      <td>-0.915578</td>\n",
       "      <td>0.535675</td>\n",
       "      <td>-0.762212</td>\n",
       "      <td>-0.764004</td>\n",
       "    </tr>\n",
       "  </tbody>\n",
       "</table>\n",
       "<p>5 rows × 104 columns</p>\n",
       "</div>"
      ],
      "text/plain": [
       "       CRIM        ZN     INDUS      CHAS       NOX        RM       AGE  \\\n",
       "0 -0.416323  0.284830 -1.270520 -0.272599  0.738124  0.552955 -0.120013   \n",
       "1 -0.425331 -0.487722 -0.586750 -0.272599 -1.184627  0.020504  0.367166   \n",
       "2 -0.397524 -0.487722 -0.583140 -0.272599 -0.293242  1.103260 -0.265812   \n",
       "3 -0.405311 -0.487722 -1.280278 -0.272599 -0.884416  1.027034 -0.809889   \n",
       "4 -0.403385 -0.487722 -1.289773 -0.272599 -1.627468  0.990705 -0.511180   \n",
       "\n",
       "        DIS       RAD       TAX  ...   TAX_TAX  TAX_PTRATIO     TAX_B  \\\n",
       "0  0.165247 -0.982843 -0.642280  ... -0.666456    -0.833076 -0.309350   \n",
       "1  0.624852 -0.867883 -0.950995  ... -0.849329    -0.886279 -0.628821   \n",
       "2  0.644430 -0.867883 -1.022237  ... -0.886725    -0.942789 -0.703492   \n",
       "3  0.998977 -0.752922 -1.123163  ... -0.936618    -0.960038 -0.800412   \n",
       "4  1.075097 -0.752922 -1.075668  ... -0.913589    -0.936617 -0.748078   \n",
       "\n",
       "   TAX_LSTAT  PTRATIO_PTRATIO  PTRATIO_B  PTRATIO_LSTAT       B_B   B_LSTAT  \\\n",
       "0  -0.835367        -1.443290  -0.260551      -1.088942  0.497397 -0.827189   \n",
       "1  -0.714306        -0.413379   0.245572      -0.557697  0.488925 -0.282211   \n",
       "2  -0.979900        -0.410662   0.243110      -1.187464  0.481691 -1.065847   \n",
       "3  -1.032944         0.095261   0.489781      -1.273772  0.518208 -1.199447   \n",
       "4  -0.897918        -0.036731   0.440878      -0.915578  0.535675 -0.762212   \n",
       "\n",
       "   LSTAT_LSTAT  \n",
       "0    -0.783600  \n",
       "1    -0.557487  \n",
       "2    -0.847899  \n",
       "3    -0.875541  \n",
       "4    -0.764004  \n",
       "\n",
       "[5 rows x 104 columns]"
      ]
     },
     "execution_count": 142,
     "metadata": {},
     "output_type": "execute_result"
    }
   ],
   "source": [
    "# Standardize features.\n",
    "new_data_stad = new_data.copy()\n",
    "new_data_stad = standardize(new_data_stad)\n",
    "new_data_stad.head()"
   ]
  },
  {
   "cell_type": "code",
   "execution_count": 143,
   "metadata": {},
   "outputs": [],
   "source": [
    "# Randomly sample of your data\n",
    "from sklearn.model_selection import train_test_split\n",
    "X_train, X_test, y_train, y_test = train_test_split(new_data_stad, \n",
    "                                                    bdata['MEDV'], \n",
    "                                                    test_size=0.2, \n",
    "                                                    random_state=251, \n",
    "                                                    shuffle=True)"
   ]
  },
  {
   "cell_type": "markdown",
   "metadata": {
    "id": "JeXkvp7njl7U"
   },
   "source": [
    "### 4.2 Overfitting (sort of)\n",
    "Now, using your version of multivariate regression from 2.3, let's overfit the training data. Using your training set, regress housing price on as many of those K+(K*(K+1))/2 features as you can (Don't forget to add quadratic terms. Form instance, RM^2.).  If you get too greedy, it's possible this will take a long time to compute, so start with 5-10 features, and if you have the time, add more features.\n",
    "\n",
    "Report the RMSE when you apply your model to your training set and to your testing set. How do these numbers compare to each other, and to the RMSE from 3.2 and nearest neighbors?"
   ]
  },
  {
   "cell_type": "code",
   "execution_count": 150,
   "metadata": {
    "id": "kgQ48hi6jl7U",
    "tags": []
   },
   "outputs": [
    {
     "name": "stdout",
     "output_type": "stream",
     "text": [
      "10  features included:\n",
      "training rmse:  5.824034660426415\n",
      "testing rmse:  4.74491693338807\n",
      "50  features included:\n",
      "training rmse:  3.773770150765099\n",
      "testing rmse:  5.3189526713507735\n",
      "104  features included:\n",
      "training rmse:  2.764677537870258\n",
      "testing rmse:  3.7317508673781075\n"
     ]
    }
   ],
   "source": [
    "num = [10, 50, len(X_train.columns)]\n",
    "for n in num:\n",
    "    print(n, ' features included:')\n",
    "    X_train_sub = X_train.iloc[:, : n]\n",
    "    X_test_sub = X_test.iloc[:, : n]\n",
    "\n",
    "    alpha, beta, iteration, time_taken = multivariate_ols(X_train_sub, y_train, R = 0.01, MaxIterations = 100000) \n",
    "\n",
    "    def compute_RMSE(predicted,actual):\n",
    "        return np.sqrt(np.sum((predicted - actual)**2)/len(actual))\n",
    "\n",
    "    Y_train_predicted = alpha + np.dot(X_train_sub, beta)\n",
    "    Y_test_predicted = alpha + np.dot(X_test_sub, beta)\n",
    "\n",
    "    print('training rmse: ', compute_RMSE(Y_train_predicted, y_train))\n",
    "    print('testing rmse: ', compute_RMSE(Y_test_predicted, y_test))"
   ]
  },
  {
   "cell_type": "markdown",
   "metadata": {},
   "source": [
    "From the result, we can see that rmse of training data is 2.765, while rmse of testing data is 3.732. The results continuously decrease with features increase for training rmse, but not continuously decrease for the testing dataset. Thus, it might indicate a overfitting issue. The results of testing rmse is smaller than what we got from 3.2. "
   ]
  },
  {
   "cell_type": "markdown",
   "metadata": {
    "id": "XDlDsi4wjl7U"
   },
   "source": [
    "### 4.3 Ridge regularization (basic)\n",
    "Incorporate L2 (Ridge) regularization into your multivariate_ols regression. Write a new version of your gradient descent algorithm that includes a regularization term \"lambda\" to penalize excessive complexity. \n",
    "\n",
    "Use your regularized regression to re-fit the model from 4.2 above on your training data, using the value lambda = 0.5.  Report the RMSE obtained for your training data, and the RMSE obtained for your testing data."
   ]
  },
  {
   "cell_type": "code",
   "execution_count": 151,
   "metadata": {
    "id": "Rlaok4imjl7U",
    "tags": []
   },
   "outputs": [],
   "source": [
    "def multivariate_ols_ridge(xvalues, yvalues, R, lambda_beta, MaxIterations = 1000):\n",
    "    start_time = time.time()\n",
    "    \n",
    "    X = np.array(xvalues)\n",
    "    Y = np.array(yvalues)\n",
    "    \n",
    "    N, p = np.shape(X)\n",
    "    \n",
    "    alpha = np.random.rand()\n",
    "    beta = np.random.rand(p)\n",
    "    \n",
    "    dj_alpha = np.random.rand()\n",
    "    dj_beta = np.random.rand(p)\n",
    "    \n",
    "    epsilon = 1e-4\n",
    "    \n",
    "    iteration = 0\n",
    "    \n",
    "    while (iteration < MaxIterations) and ((np.abs(R * dj_alpha) > epsilon) or np.all(np.abs(R * dj_beta)) > epsilon):\n",
    "        \n",
    "        dj_alpha = (1/N) * np.sum(alpha + np.sum(beta*X, axis=1) - Y)\n",
    "        \n",
    "        dj_beta = (1/N) * np.sum((alpha + np.sum(beta*X, axis=1) - Y)*(X.T), axis=1)\n",
    "        \n",
    "        alpha = alpha - R * dj_alpha\n",
    "        \n",
    "        beta = (beta*(1-(R*(lambda_beta/N)))) - R * dj_beta\n",
    "        \n",
    "        iteration += 1\n",
    "    \n",
    "    time_taken = time.time() - start_time \n",
    "    \n",
    "    return alpha, beta, iteration, time_taken   "
   ]
  },
  {
   "cell_type": "code",
   "execution_count": 153,
   "metadata": {},
   "outputs": [
    {
     "name": "stdout",
     "output_type": "stream",
     "text": [
      "10  features included:\n",
      "training rmse:  5.8240585478062785\n",
      "testing rmse:  4.743936123057445\n",
      "50  features included:\n",
      "training rmse:  3.8331542217613004\n",
      "testing rmse:  5.015926018220298\n",
      "104  features included:\n",
      "training rmse:  2.8230620867960887\n",
      "testing rmse:  3.8444423974335695\n"
     ]
    }
   ],
   "source": [
    "num = [10, 50, len(X_train.columns)]\n",
    "\n",
    "for n in num:\n",
    "    print(n, ' features included:')\n",
    "    X_train_sub = X_train.iloc[:, : n]\n",
    "    X_test_sub = X_test.iloc[:, : n]\n",
    "\n",
    "    alpha, beta, iteration, time_taken = multivariate_ols_ridge(X_train_sub, y_train, lambda_beta = 0.5, R = 0.01, MaxIterations = 100000) \n",
    "\n",
    "    def compute_RMSE(predicted,actual):\n",
    "        return np.sqrt(np.sum((predicted - actual)**2)/len(actual))\n",
    "\n",
    "    Y_train_predicted = alpha + np.dot(X_train_sub, beta)\n",
    "    Y_test_predicted = alpha + np.dot(X_test_sub, beta)\n",
    "\n",
    "    print('training rmse: ', compute_RMSE(Y_train_predicted, y_train))\n",
    "    print('testing rmse: ', compute_RMSE(Y_test_predicted, y_test))\n"
   ]
  },
  {
   "cell_type": "markdown",
   "metadata": {
    "id": "sxZdfCKvjl7U"
   },
   "source": [
    "The training rmse and testing rmse are both higher than previous, which controls the overfitting issue. "
   ]
  },
  {
   "cell_type": "markdown",
   "metadata": {
    "id": "QIYjxCfAjl7U"
   },
   "source": [
    "### 4.4: Cross-validate lambda\n",
    "\n",
    "This is where it all comes together! Use k-fold cross-validation to select the optimal value of lambda. In other words, define a set of different values of lambda. Then, using the 80% of your data that you set aside for training, iterate through the values of lambda one at a time. For each value of lambda, use k-fold cross-validation to compute the average cross-validated (test) RMSE for that lambda value, computed as the average across the held-out folds. You should also record the average cross-validated train RMSE, computed as the average across the folds used for training. Create a scatter plot that shows RMSE as a function of lambda. The scatter plot should have two lines: a red line showing the cross-validated (test) RMSE, and a blue line showing the cross-validated train RMSE.  At this point, you should not have touched your held-out 20% of \"true\" test data.\n",
    "\n",
    "What value of lambda minimizes your cross-validated (test) RMSE? Fix that value of lambda, and train a new model using all of your training data with that value of lambda (i.e., use the entire 80% of the data that you set aside in 4.1). Calcuate the RMSE for this model on the 20% of \"true\" test data. How does your test RMSE compare to the RMSE from 4.3, 4.2, 2.3, and to the RMSE from nearest neighbors? What do you make of these results?\n",
    "\n",
    "Go brag to your friends about how you just implemented cross-validated ridge-regularized multivariate regression using gradient descent optimization, from scratch. If you still have friends."
   ]
  },
  {
   "cell_type": "code",
   "execution_count": 182,
   "metadata": {
    "id": "35QDSkeGjl7U",
    "tags": []
   },
   "outputs": [
    {
     "name": "stdout",
     "output_type": "stream",
     "text": [
      "lambda:  0.001\n",
      "training rmse:  2.639334552698574\n",
      "testing rmse:  4.4930545772206845\n",
      "lambda:  0.005\n",
      "training rmse:  2.6396509694718953\n",
      "testing rmse:  4.490695008143176\n",
      "lambda:  0.01\n",
      "training rmse:  2.64168469642838\n",
      "testing rmse:  4.482831269384343\n",
      "lambda:  0.05\n",
      "training rmse:  2.648039938939037\n",
      "testing rmse:  4.426772257508083\n",
      "lambda:  0.1\n",
      "training rmse:  2.6573831722378953\n",
      "testing rmse:  4.357919043512072\n",
      "lambda:  0.2\n",
      "training rmse:  2.6765448530513356\n",
      "testing rmse:  4.260315091687092\n",
      "lambda:  0.3\n",
      "training rmse:  2.694724338945819\n",
      "testing rmse:  4.1752018282001755\n",
      "lambda:  0.5\n",
      "training rmse:  2.7287169068098835\n",
      "testing rmse:  4.049781745261217\n",
      "lambda:  0.7\n",
      "training rmse:  2.7600193801250006\n",
      "testing rmse:  3.9551872475753314\n",
      "lambda:  0.9\n",
      "training rmse:  2.7876225439591495\n",
      "testing rmse:  3.890254225998548\n",
      "lambda:  1\n",
      "training rmse:  2.8004185024452246\n",
      "testing rmse:  3.8635233788308847\n",
      "lambda:  3\n",
      "training rmse:  2.979807507970002\n",
      "testing rmse:  3.697309461163088\n",
      "lambda:  5\n",
      "training rmse:  3.101897962041762\n",
      "testing rmse:  3.7093605820045736\n",
      "lambda:  10\n",
      "training rmse:  3.32295269258089\n",
      "testing rmse:  3.8244097062819398\n"
     ]
    }
   ],
   "source": [
    "lambda_n = [0.001, 0.005, 0.01, 0.05, 0.1, 0.2, 0.3, 0.5, 0.7, 0.9, 1, 3, 5, 10]\n",
    "\n",
    "from sklearn.model_selection import KFold\n",
    "\n",
    "kf = KFold(n_splits=5, shuffle=True, random_state=1)\n",
    "\n",
    "mean_train_rmses = [] \n",
    "mean_test_rmses = []\n",
    "\n",
    "for n in lambda_n:\n",
    "    print('lambda: ', n)\n",
    "    \n",
    "    rmse_train_l = [] \n",
    "    rmse_test_l = [] \n",
    "\n",
    "    for train_index, test_index in kf.split(X_train):\n",
    "        X_train_k, X_test_k = X_train.iloc[train_index], X_train.iloc[test_index]\n",
    "        y_train_k, y_test_k = y_train.iloc[train_index], y_train.iloc[test_index]\n",
    "        \n",
    "        alpha, beta, iteration, time_taken = multivariate_ols_ridge(X_train_k, y_train_k, lambda_beta = n, R=0.01, MaxIterations =100000)\n",
    "        \n",
    "        def compute_RMSE(predicted,actual):\n",
    "            return np.sqrt(np.sum((predicted - actual)**2)/len(actual))\n",
    "        \n",
    "        Y_train_predicted_k = alpha + np.dot(X_train_k, beta)\n",
    "        Y_test_predicted_k = alpha + np.dot(X_test_k, beta)\n",
    "\n",
    "        rmse_train = compute_RMSE(Y_train_predicted_k, y_train_k)\n",
    "        rmse_test = compute_RMSE(Y_test_predicted_k, y_test_k)\n",
    "        \n",
    "        rmse_train_l.append(rmse_train)\n",
    "        rmse_test_l.append(rmse_test)\n",
    "        \n",
    "    print('training rmse: ', np.mean(rmse_train_l))\n",
    "    print('testing rmse: ', np.mean(rmse_test_l))\n",
    "        \n",
    "    mean_train_rmses.append(np.mean(rmse_train_l))\n",
    "    mean_test_rmses.append(np.mean(rmse_test_l))\n",
    "        "
   ]
  },
  {
   "cell_type": "code",
   "execution_count": 179,
   "metadata": {},
   "outputs": [
    {
     "data": {
      "text/html": [
       "<div>\n",
       "<style scoped>\n",
       "    .dataframe tbody tr th:only-of-type {\n",
       "        vertical-align: middle;\n",
       "    }\n",
       "\n",
       "    .dataframe tbody tr th {\n",
       "        vertical-align: top;\n",
       "    }\n",
       "\n",
       "    .dataframe thead th {\n",
       "        text-align: right;\n",
       "    }\n",
       "</style>\n",
       "<table border=\"1\" class=\"dataframe\">\n",
       "  <thead>\n",
       "    <tr style=\"text-align: right;\">\n",
       "      <th></th>\n",
       "      <th>CRIM</th>\n",
       "      <th>ZN</th>\n",
       "      <th>INDUS</th>\n",
       "      <th>CHAS</th>\n",
       "      <th>NOX</th>\n",
       "      <th>RM</th>\n",
       "      <th>AGE</th>\n",
       "      <th>DIS</th>\n",
       "      <th>RAD</th>\n",
       "      <th>TAX</th>\n",
       "      <th>...</th>\n",
       "      <th>TAX_TAX</th>\n",
       "      <th>TAX_PTRATIO</th>\n",
       "      <th>TAX_B</th>\n",
       "      <th>TAX_LSTAT</th>\n",
       "      <th>PTRATIO_PTRATIO</th>\n",
       "      <th>PTRATIO_B</th>\n",
       "      <th>PTRATIO_LSTAT</th>\n",
       "      <th>B_B</th>\n",
       "      <th>B_LSTAT</th>\n",
       "      <th>LSTAT_LSTAT</th>\n",
       "    </tr>\n",
       "  </thead>\n",
       "  <tbody>\n",
       "    <tr>\n",
       "      <th>65</th>\n",
       "      <td>-0.418736</td>\n",
       "      <td>2.945843</td>\n",
       "      <td>-1.133405</td>\n",
       "      <td>-0.272599</td>\n",
       "      <td>-1.360109</td>\n",
       "      <td>0.009336</td>\n",
       "      <td>-1.805585</td>\n",
       "      <td>1.302287</td>\n",
       "      <td>-0.637962</td>\n",
       "      <td>-0.452301</td>\n",
       "      <td>...</td>\n",
       "      <td>-0.537097</td>\n",
       "      <td>-0.630120</td>\n",
       "      <td>-0.100325</td>\n",
       "      <td>-0.859877</td>\n",
       "      <td>-1.115053</td>\n",
       "      <td>-0.066922</td>\n",
       "      <td>-1.159139</td>\n",
       "      <td>0.546433</td>\n",
       "      <td>-0.960322</td>\n",
       "      <td>-0.823445</td>\n",
       "    </tr>\n",
       "    <tr>\n",
       "      <th>158</th>\n",
       "      <td>-0.270878</td>\n",
       "      <td>-0.487722</td>\n",
       "      <td>1.214975</td>\n",
       "      <td>-0.272599</td>\n",
       "      <td>0.575248</td>\n",
       "      <td>-0.092332</td>\n",
       "      <td>1.117494</td>\n",
       "      <td>-1.022739</td>\n",
       "      <td>-0.523001</td>\n",
       "      <td>-0.066408</td>\n",
       "      <td>...</td>\n",
       "      <td>-0.234883</td>\n",
       "      <td>-0.485193</td>\n",
       "      <td>0.034882</td>\n",
       "      <td>-0.618288</td>\n",
       "      <td>-1.631670</td>\n",
       "      <td>-0.687773</td>\n",
       "      <td>-0.963777</td>\n",
       "      <td>-0.218697</td>\n",
       "      <td>-0.722820</td>\n",
       "      <td>-0.708604</td>\n",
       "    </tr>\n",
       "    <tr>\n",
       "      <th>88</th>\n",
       "      <td>-0.433476</td>\n",
       "      <td>-0.487722</td>\n",
       "      <td>-1.109817</td>\n",
       "      <td>-0.272599</td>\n",
       "      <td>-1.379216</td>\n",
       "      <td>0.858115</td>\n",
       "      <td>0.630315</td>\n",
       "      <td>-0.089853</td>\n",
       "      <td>-0.867883</td>\n",
       "      <td>-0.802574</td>\n",
       "      <td>...</td>\n",
       "      <td>-0.765633</td>\n",
       "      <td>-0.751572</td>\n",
       "      <td>-0.471682</td>\n",
       "      <td>-0.856379</td>\n",
       "      <td>-0.311427</td>\n",
       "      <td>0.302795</td>\n",
       "      <td>-0.968479</td>\n",
       "      <td>0.508932</td>\n",
       "      <td>-0.801272</td>\n",
       "      <td>-0.775777</td>\n",
       "    </tr>\n",
       "    <tr>\n",
       "      <th>423</th>\n",
       "      <td>0.382007</td>\n",
       "      <td>-0.487722</td>\n",
       "      <td>1.028107</td>\n",
       "      <td>-0.272599</td>\n",
       "      <td>-0.031695</td>\n",
       "      <td>-0.054842</td>\n",
       "      <td>0.587642</td>\n",
       "      <td>-0.931201</td>\n",
       "      <td>1.661245</td>\n",
       "      <td>1.518724</td>\n",
       "      <td>...</td>\n",
       "      <td>1.561222</td>\n",
       "      <td>1.550422</td>\n",
       "      <td>-2.123182</td>\n",
       "      <td>1.894594</td>\n",
       "      <td>0.888458</td>\n",
       "      <td>-3.526833</td>\n",
       "      <td>1.599377</td>\n",
       "      <td>-3.247929</td>\n",
       "      <td>-1.635614</td>\n",
       "      <td>1.404412</td>\n",
       "    </tr>\n",
       "    <tr>\n",
       "      <th>379</th>\n",
       "      <td>1.663224</td>\n",
       "      <td>-0.487722</td>\n",
       "      <td>1.014029</td>\n",
       "      <td>-0.272599</td>\n",
       "      <td>1.331344</td>\n",
       "      <td>-0.290674</td>\n",
       "      <td>1.117494</td>\n",
       "      <td>-1.223342</td>\n",
       "      <td>1.661245</td>\n",
       "      <td>1.524661</td>\n",
       "      <td>...</td>\n",
       "      <td>1.569626</td>\n",
       "      <td>1.511950</td>\n",
       "      <td>1.886916</td>\n",
       "      <td>1.685930</td>\n",
       "      <td>0.758059</td>\n",
       "      <td>0.722521</td>\n",
       "      <td>1.334367</td>\n",
       "      <td>0.435964</td>\n",
       "      <td>1.606893</td>\n",
       "      <td>1.093200</td>\n",
       "    </tr>\n",
       "  </tbody>\n",
       "</table>\n",
       "<p>5 rows × 104 columns</p>\n",
       "</div>"
      ],
      "text/plain": [
       "         CRIM        ZN     INDUS      CHAS       NOX        RM       AGE  \\\n",
       "65  -0.418736  2.945843 -1.133405 -0.272599 -1.360109  0.009336 -1.805585   \n",
       "158 -0.270878 -0.487722  1.214975 -0.272599  0.575248 -0.092332  1.117494   \n",
       "88  -0.433476 -0.487722 -1.109817 -0.272599 -1.379216  0.858115  0.630315   \n",
       "423  0.382007 -0.487722  1.028107 -0.272599 -0.031695 -0.054842  0.587642   \n",
       "379  1.663224 -0.487722  1.014029 -0.272599  1.331344 -0.290674  1.117494   \n",
       "\n",
       "          DIS       RAD       TAX  ...   TAX_TAX  TAX_PTRATIO     TAX_B  \\\n",
       "65   1.302287 -0.637962 -0.452301  ... -0.537097    -0.630120 -0.100325   \n",
       "158 -1.022739 -0.523001 -0.066408  ... -0.234883    -0.485193  0.034882   \n",
       "88  -0.089853 -0.867883 -0.802574  ... -0.765633    -0.751572 -0.471682   \n",
       "423 -0.931201  1.661245  1.518724  ...  1.561222     1.550422 -2.123182   \n",
       "379 -1.223342  1.661245  1.524661  ...  1.569626     1.511950  1.886916   \n",
       "\n",
       "     TAX_LSTAT  PTRATIO_PTRATIO  PTRATIO_B  PTRATIO_LSTAT       B_B   B_LSTAT  \\\n",
       "65   -0.859877        -1.115053  -0.066922      -1.159139  0.546433 -0.960322   \n",
       "158  -0.618288        -1.631670  -0.687773      -0.963777 -0.218697 -0.722820   \n",
       "88   -0.856379        -0.311427   0.302795      -0.968479  0.508932 -0.801272   \n",
       "423   1.894594         0.888458  -3.526833       1.599377 -3.247929 -1.635614   \n",
       "379   1.685930         0.758059   0.722521       1.334367  0.435964  1.606893   \n",
       "\n",
       "     LSTAT_LSTAT  \n",
       "65     -0.823445  \n",
       "158    -0.708604  \n",
       "88     -0.775777  \n",
       "423     1.404412  \n",
       "379     1.093200  \n",
       "\n",
       "[5 rows x 104 columns]"
      ]
     },
     "execution_count": 179,
     "metadata": {},
     "output_type": "execute_result"
    }
   ],
   "source": [
    "X_train.head()"
   ]
  },
  {
   "cell_type": "code",
   "execution_count": 184,
   "metadata": {},
   "outputs": [
    {
     "data": {
      "image/png": "[encoded data removed]",
      "text/plain": [
       "<Figure size 800x400 with 1 Axes>"
      ]
     },
     "metadata": {},
     "output_type": "display_data"
    }
   ],
   "source": [
    "plt.figure(figsize=(8, 4))\n",
    "plt.plot(lambda_n, mean_train_rmses, label='training rmse', color='blue') \n",
    "plt.plot(lambda_n, mean_test_rmses, label='testing rmse', color='red') \n",
    "plt.ylim(2, 5)\n",
    "plt.xlabel('lambda')\n",
    "plt.ylabel('rmse')\n",
    "plt.legend()\n",
    "plt.show()"
   ]
  },
  {
   "cell_type": "markdown",
   "metadata": {
    "id": "fJRo-C3kjl7U"
   },
   "source": [
    "The testing rmse and training rmse both increase with lambda increase after lambda > 5. lambda = 3 is the smallest rmse I got from my cases. \n"
   ]
  },
  {
   "cell_type": "code",
   "execution_count": 194,
   "metadata": {},
   "outputs": [
    {
     "name": "stdout",
     "output_type": "stream",
     "text": [
      "testing rmse:  3.9751908694754805\n"
     ]
    }
   ],
   "source": [
    "lam = 3\n",
    "\n",
    "alpha, beta, iteration, time_taken = multivariate_ols_ridge(X_train, y_train, lambda_beta = lam, R=0.01, MaxIterations=100000)\n",
    "\n",
    "def compute_RMSE(predicted,actual):\n",
    "    return np.sqrt(np.sum((predicted - actual)**2)/len(actual))\n",
    "        \n",
    "Y_test_predicted = alpha + np.dot(X_test, beta)\n",
    "\n",
    "rmse_test = compute_RMSE(Y_test_predicted, y_test)\n",
    "\n",
    "print('testing rmse: ', rmse_test)\n"
   ]
  },
  {
   "cell_type": "markdown",
   "metadata": {},
   "source": [
    "From the Cross-validate lambda, we got the rmse is 3.971, from the 4.3, we got the rmse is 3.844, from 4.2, we got rmse is 3.73. From the 3.2, we got the rmse is 6.154. From the KNN hw, we got the rmse is 4.61. Thus, we can conclude that the Ridge Regression achieves better result than OLS and kNN and have good impact on prevent overfitting. "
   ]
  }
 ],
 "metadata": {
  "anaconda-cloud": {},
  "colab": {
   "name": "_INFO251-PS4 - 2022_final.ipynb",
   "provenance": []
  },
  "kernelspec": {
   "display_name": "Python 3 (ipykernel)",
   "language": "python",
   "name": "python3"
  },
  "language_info": {
   "codemirror_mode": {
    "name": "ipython",
    "version": 3
   },
   "file_extension": ".py",
   "mimetype": "text/x-python",
   "name": "python",
   "nbconvert_exporter": "python",
   "pygments_lexer": "ipython3",
   "version": "3.8.13"
  }
 },
 "nbformat": 4,
 "nbformat_minor": 4
}
